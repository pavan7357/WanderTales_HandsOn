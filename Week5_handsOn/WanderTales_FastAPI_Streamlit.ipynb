{
  "cells": [
    {
      "cell_type": "code",
      "execution_count": 1,
      "metadata": {
        "colab": {
          "base_uri": "https://localhost:8080/"
        },
        "id": "m1_6JZ5PUdq2",
        "outputId": "6ba8ee78-036b-41ab-e511-7b6f901ad822"
      },
      "outputs": [
        {
          "output_type": "stream",
          "name": "stdout",
          "text": [
            "Requirement already satisfied: openai in /usr/local/lib/python3.11/dist-packages (1.61.1)\n",
            "Collecting openai\n",
            "  Downloading openai-1.63.2-py3-none-any.whl.metadata (27 kB)\n",
            "Requirement already satisfied: anyio<5,>=3.5.0 in /usr/local/lib/python3.11/dist-packages (from openai) (3.7.1)\n",
            "Requirement already satisfied: distro<2,>=1.7.0 in /usr/local/lib/python3.11/dist-packages (from openai) (1.9.0)\n",
            "Requirement already satisfied: httpx<1,>=0.23.0 in /usr/local/lib/python3.11/dist-packages (from openai) (0.28.1)\n",
            "Requirement already satisfied: jiter<1,>=0.4.0 in /usr/local/lib/python3.11/dist-packages (from openai) (0.8.2)\n",
            "Requirement already satisfied: pydantic<3,>=1.9.0 in /usr/local/lib/python3.11/dist-packages (from openai) (2.10.6)\n",
            "Requirement already satisfied: sniffio in /usr/local/lib/python3.11/dist-packages (from openai) (1.3.1)\n",
            "Requirement already satisfied: tqdm>4 in /usr/local/lib/python3.11/dist-packages (from openai) (4.67.1)\n",
            "Requirement already satisfied: typing-extensions<5,>=4.11 in /usr/local/lib/python3.11/dist-packages (from openai) (4.12.2)\n",
            "Requirement already satisfied: idna>=2.8 in /usr/local/lib/python3.11/dist-packages (from anyio<5,>=3.5.0->openai) (3.10)\n",
            "Requirement already satisfied: certifi in /usr/local/lib/python3.11/dist-packages (from httpx<1,>=0.23.0->openai) (2025.1.31)\n",
            "Requirement already satisfied: httpcore==1.* in /usr/local/lib/python3.11/dist-packages (from httpx<1,>=0.23.0->openai) (1.0.7)\n",
            "Requirement already satisfied: h11<0.15,>=0.13 in /usr/local/lib/python3.11/dist-packages (from httpcore==1.*->httpx<1,>=0.23.0->openai) (0.14.0)\n",
            "Requirement already satisfied: annotated-types>=0.6.0 in /usr/local/lib/python3.11/dist-packages (from pydantic<3,>=1.9.0->openai) (0.7.0)\n",
            "Requirement already satisfied: pydantic-core==2.27.2 in /usr/local/lib/python3.11/dist-packages (from pydantic<3,>=1.9.0->openai) (2.27.2)\n",
            "Downloading openai-1.63.2-py3-none-any.whl (472 kB)\n",
            "\u001b[2K   \u001b[90m━━━━━━━━━━━━━━━━━━━━━━━━━━━━━━━━━━━━━━━━\u001b[0m \u001b[32m472.3/472.3 kB\u001b[0m \u001b[31m7.2 MB/s\u001b[0m eta \u001b[36m0:00:00\u001b[0m\n",
            "\u001b[?25hInstalling collected packages: openai\n",
            "  Attempting uninstall: openai\n",
            "    Found existing installation: openai 1.61.1\n",
            "    Uninstalling openai-1.61.1:\n",
            "      Successfully uninstalled openai-1.61.1\n",
            "Successfully installed openai-1.63.2\n"
          ]
        }
      ],
      "source": [
        "!pip install --upgrade openai\n"
      ]
    },
    {
      "cell_type": "code",
      "execution_count": 2,
      "metadata": {
        "colab": {
          "base_uri": "https://localhost:8080/"
        },
        "collapsed": true,
        "id": "fj43jPUbzhDq",
        "outputId": "d014a977-90e9-42c2-8802-8088927c19da"
      },
      "outputs": [
        {
          "output_type": "stream",
          "name": "stdout",
          "text": [
            "  Preparing metadata (setup.py) ... \u001b[?25l\u001b[?25hdone\n",
            "\u001b[2K     \u001b[90m━━━━━━━━━━━━━━━━━━━━━━━━━━━━━━━━━━━━━━━━\u001b[0m \u001b[32m44.3/44.3 kB\u001b[0m \u001b[31m1.2 MB/s\u001b[0m eta \u001b[36m0:00:00\u001b[0m\n",
            "\u001b[2K   \u001b[90m━━━━━━━━━━━━━━━━━━━━━━━━━━━━━━━━━━━━━━━━\u001b[0m \u001b[32m9.6/9.6 MB\u001b[0m \u001b[31m20.7 MB/s\u001b[0m eta \u001b[36m0:00:00\u001b[0m\n",
            "\u001b[2K   \u001b[90m━━━━━━━━━━━━━━━━━━━━━━━━━━━━━━━━━━━━━━━━\u001b[0m \u001b[32m94.8/94.8 kB\u001b[0m \u001b[31m4.6 MB/s\u001b[0m eta \u001b[36m0:00:00\u001b[0m\n",
            "\u001b[2K   \u001b[90m━━━━━━━━━━━━━━━━━━━━━━━━━━━━━━━━━━━━━━━━\u001b[0m \u001b[32m62.3/62.3 kB\u001b[0m \u001b[31m3.5 MB/s\u001b[0m eta \u001b[36m0:00:00\u001b[0m\n",
            "\u001b[2K   \u001b[90m━━━━━━━━━━━━━━━━━━━━━━━━━━━━━━━━━━━━━━━━\u001b[0m \u001b[32m6.9/6.9 MB\u001b[0m \u001b[31m32.1 MB/s\u001b[0m eta \u001b[36m0:00:00\u001b[0m\n",
            "\u001b[2K   \u001b[90m━━━━━━━━━━━━━━━━━━━━━━━━━━━━━━━━━━━━━━━━\u001b[0m \u001b[32m71.5/71.5 kB\u001b[0m \u001b[31m2.5 MB/s\u001b[0m eta \u001b[36m0:00:00\u001b[0m\n",
            "\u001b[2K   \u001b[90m━━━━━━━━━━━━━━━━━━━━━━━━━━━━━━━━━━━━━━━━\u001b[0m \u001b[32m79.1/79.1 kB\u001b[0m \u001b[31m3.3 MB/s\u001b[0m eta \u001b[36m0:00:00\u001b[0m\n",
            "\u001b[?25h  Building wheel for wikipedia-api (setup.py) ... \u001b[?25l\u001b[?25hdone\n"
          ]
        }
      ],
      "source": [
        "!pip install -q streamlit openai requests wikipedia-api pyngrok fastapi uvicorn openai requests wikipedia-api"
      ]
    },
    {
      "cell_type": "code",
      "execution_count": 3,
      "metadata": {
        "colab": {
          "base_uri": "https://localhost:8080/"
        },
        "id": "VjH_is6YzrJx",
        "outputId": "56582b87-a988-488d-a164-ed27de886856"
      },
      "outputs": [
        {
          "output_type": "stream",
          "name": "stdout",
          "text": [
            "Authtoken saved to configuration file: /root/.config/ngrok/ngrok.yml\n"
          ]
        }
      ],
      "source": [
        "!ngrok authtoken 2suOuuxs3zjz3pWQWDl9dQZPTLR_5FKMVwXpnfPJDKgESoGpK\n"
      ]
    },
    {
      "cell_type": "markdown",
      "source": [
        "## Wandertales FastAPI"
      ],
      "metadata": {
        "id": "eov6L92R307E"
      }
    },
    {
      "cell_type": "code",
      "execution_count": null,
      "metadata": {
        "colab": {
          "base_uri": "https://localhost:8080/"
        },
        "id": "YTCKI6VbOOzY",
        "outputId": "9ea3167a-035b-4962-c774-365c20122b7e"
      },
      "outputs": [
        {
          "name": "stdout",
          "output_type": "stream",
          "text": [
            "Overwriting fastapi_backend.py\n"
          ]
        }
      ],
      "source": [
        "%%writefile fastapi_backend.py\n",
        "\n",
        "from fastapi import FastAPI, Query, HTTPException\n",
        "import openai\n",
        "import requests\n",
        "import wikipediaapi\n",
        "from pyngrok import ngrok\n",
        "import uvicorn\n",
        "import nest_asyncio\n",
        "\n",
        "nest_asyncio.apply()\n",
        "\n",
        "OPENAI_API_KEY = \"your_apenapikey\"\n",
        "# SerpAPI Key (Google Search)\n",
        "SERPAPI_KEY = \"your_serapikey\"\n",
        "\n",
        "# Initialize OpenAI API Client\n",
        "client = openai.OpenAI(api_key=OPENAI_API_KEY)\n",
        "\n",
        "# Initialize FastAPI app\n",
        "app = FastAPI()\n",
        "\n",
        "# Wikipedia API Setup\n",
        "wiki = wikipediaapi.Wikipedia(user_agent=\"WanderTales/1.0\", language=\"en\")\n",
        "\n",
        "# Root Endpoint\n",
        "@app.get(\"/\")\n",
        "async def root():\n",
        "    return {\"message\": \"Welcome to WanderTales API! Use /generate_travel_story/?destination=CityName or /generate_travel_image/?destination=CityName.\"}\n",
        "\n",
        "# Fetch travel info from Wikipedia\n",
        "def get_travel_info(destination: str):\n",
        "    page = wiki.page(destination)\n",
        "    return page.summary[:500] if page.exists() else \"No travel information found.\"\n",
        "\n",
        "# Fetch travel news from SerpAPI\n",
        "def fetch_travel_news(destination: str):\n",
        "    try:\n",
        "        url = f\"https://serpapi.com/search.json?q={destination}+travel+news&api_key={SERPAPI_KEY}\"\n",
        "        response = requests.get(url)\n",
        "        results = response.json().get(\"organic_results\", [])\n",
        "        return results[0][\"snippet\"] if results else \"No real-time travel news available.\"\n",
        "    except Exception as e:\n",
        "        return f\"Error fetching travel news: {str(e)}\"\n",
        "\n",
        "# Generate travel story using OpenAI GPT-4\n",
        "@app.get(\"/generate_travel_story/\")\n",
        "async def generate_travel_story(destination: str = Query(..., description=\"Enter a valid travel destination\")):\n",
        "    if not destination:\n",
        "        raise HTTPException(status_code=400, detail=\"Destination parameter is required.\")\n",
        "\n",
        "    wikipedia_info = get_travel_info(destination)\n",
        "    news_info = fetch_travel_news(destination)\n",
        "\n",
        "    prompt = f\"\"\"\n",
        "    You are a travel AI expert. Provide a captivating travel story for {destination}.\n",
        "\n",
        "    - Historical & Cultural Insights: {wikipedia_info}\n",
        "    - Latest Travel News: {news_info}\n",
        "\n",
        "    Include famous landmarks, local experiences, and hidden gems.\n",
        "    \"\"\"\n",
        "\n",
        "    try:\n",
        "        response = client.chat.completions.create(\n",
        "            model=\"gpt-4\",\n",
        "            messages=[\n",
        "                {\"role\": \"system\", \"content\": \"You are an AI travel assistant.\"},\n",
        "                {\"role\": \"user\", \"content\": prompt}\n",
        "            ],\n",
        "            max_tokens=500\n",
        "        )\n",
        "        story = response.choices[0].message.content.strip()\n",
        "        return {\"story\": story}\n",
        "\n",
        "    except openai.OpenAIError as e:\n",
        "        raise HTTPException(status_code=500, detail=f\"OpenAI API error: {str(e)}\")\n",
        "\n",
        "# Generate AI-powered travel image using OpenAI DALL·E\n",
        "@app.get(\"/generate_travel_image/\")\n",
        "async def generate_travel_image(destination: str = Query(..., description=\"Enter a valid travel destination\")):\n",
        "    if not destination:\n",
        "        raise HTTPException(status_code=400, detail=\"Destination parameter is required.\")\n",
        "\n",
        "    try:\n",
        "        response = client.images.generate(\n",
        "            model=\"dall-e-3\",  # Specify DALL·E model\n",
        "            prompt=f\"Scenic view of {destination} including cultural and historical landmarks\",\n",
        "            n=1,\n",
        "            size=\"1024x1024\"\n",
        "        )\n",
        "\n",
        "        image_url = response.data[0].url\n",
        "        return {\"image_url\": image_url}\n",
        "\n",
        "    except openai.OpenAIError as e:\n",
        "        raise HTTPException(status_code=500, detail=f\"OpenAI API error: {str(e)}\")\n",
        "\n",
        "# 🔹 Start Ngrok for FastAPI on Port 8000\n",
        "public_url = ngrok.connect(8000)\n",
        "print(f\"🚀 FastAPI Public URL: {public_url}\")\n",
        "\n",
        "# Run FastAPI Server\n",
        "if __name__ == \"__main__\":\n",
        "    uvicorn.run(app, host=\"0.0.0.0\", port=8000)\n"
      ]
    },
    {
      "cell_type": "code",
      "execution_count": null,
      "metadata": {
        "colab": {
          "background_save": true,
          "base_uri": "https://localhost:8080/"
        },
        "id": "-24nbV4NBlO-",
        "outputId": "f0bc1f53-ccea-4daf-ad7a-69c88422b99f"
      },
      "outputs": [
        {
          "name": "stdout",
          "output_type": "stream",
          "text": [
            "🚀 FastAPI Public URL: NgrokTunnel: \"https://9251-35-201-245-191.ngrok-free.app\" -> \"http://localhost:8000\"\n",
            "\u001b[32mINFO\u001b[0m:     Started server process [\u001b[36m2824\u001b[0m]\n",
            "\u001b[32mINFO\u001b[0m:     Waiting for application startup.\n",
            "\u001b[32mINFO\u001b[0m:     Application startup complete.\n",
            "\u001b[32mINFO\u001b[0m:     Uvicorn running on \u001b[1mhttp://0.0.0.0:8000\u001b[0m (Press CTRL+C to quit)\n",
            "\u001b[32mINFO\u001b[0m:     2605:a601:aecb:9d00:9c41:e8a5:333f:85db:0 - \"\u001b[1mGET / HTTP/1.1\u001b[0m\" \u001b[32m200 OK\u001b[0m\n",
            "\u001b[32mINFO\u001b[0m:     2605:a601:aecb:9d00:9c41:e8a5:333f:85db:0 - \"\u001b[1mGET /favicon.ico HTTP/1.1\u001b[0m\" \u001b[31m404 Not Found\u001b[0m\n",
            "\u001b[32mINFO\u001b[0m:     2605:a601:aecb:9d00:9c41:e8a5:333f:85db:0 - \"\u001b[1mGET /generate_travel_story/?destination=Paris HTTP/1.1\u001b[0m\" \u001b[32m200 OK\u001b[0m\n",
            "\u001b[32mINFO\u001b[0m:     136.32.202.125:0 - \"\u001b[1mGET /generate_travel_story/?destination=KansasCity HTTP/1.1\u001b[0m\" \u001b[32m200 OK\u001b[0m\n",
            "\u001b[32mINFO\u001b[0m:     136.32.202.125:0 - \"\u001b[1mGET /generate_travel_image/?destination=KansasCity HTTP/1.1\u001b[0m\" \u001b[32m200 OK\u001b[0m\n",
            "\u001b[32mINFO\u001b[0m:     136.32.202.125:0 - \"\u001b[1mGET / HTTP/1.1\u001b[0m\" \u001b[32m200 OK\u001b[0m\n",
            "\u001b[32mINFO\u001b[0m:     136.32.202.125:0 - \"\u001b[1mGET /generate_travel_story/?destination=KansasCity HTTP/1.1\u001b[0m\" \u001b[32m200 OK\u001b[0m\n",
            "\u001b[32mINFO\u001b[0m:     136.32.202.125:0 - \"\u001b[1mGET /generate_travel_image/?destination=KansasCity HTTP/1.1\u001b[0m\" \u001b[32m200 OK\u001b[0m\n"
          ]
        }
      ],
      "source": [
        "!python fastapi_backend.py"
      ]
    },
    {
      "cell_type": "markdown",
      "source": [
        "## WanderTales : Streamlit"
      ],
      "metadata": {
        "id": "zKBrXd9O3K6S"
      }
    },
    {
      "cell_type": "code",
      "execution_count": 6,
      "metadata": {
        "colab": {
          "base_uri": "https://localhost:8080/"
        },
        "id": "DDkuH0T2Fh-W",
        "outputId": "a11eb8b8-199f-4a90-d260-8e7e49e8f228"
      },
      "outputs": [
        {
          "output_type": "stream",
          "name": "stdout",
          "text": [
            "Overwriting wandertales_streamlit.py\n"
          ]
        }
      ],
      "source": [
        "%%writefile wandertales_streamlit.py\n",
        "import streamlit as st\n",
        "import openai\n",
        "import requests\n",
        "import wikipediaapi\n",
        "from pyngrok import ngrok\n",
        "\n",
        "OPENAI_API_KEY = \"your_apenapikey\"\n",
        "# SerpAPI Key (Google Search)\n",
        "SERPAPI_KEY = \"your_serapikey\"\n",
        "\n",
        "\n",
        "# Initialize OpenAI Client\n",
        "client = openai.OpenAI(api_key=OPENAI_API_KEY)\n",
        "\n",
        "# Wikipedia API Setup\n",
        "wiki = wikipediaapi.Wikipedia(user_agent=\"WanderTales/1.0\", language=\"en\")\n",
        "\n",
        "# Function to fetch travel knowledge from Wikipedia\n",
        "def get_travel_info(destination):\n",
        "    st.info(f\"🔍 Fetching historical & cultural info for: {destination}\")\n",
        "    page = wiki.page(destination)\n",
        "    return page.summary[:500] if page.exists() else \"No travel information found.\"\n",
        "\n",
        "# Function to fetch real-time travel insights from SerpAPI\n",
        "def fetch_travel_news(destination):\n",
        "    st.info(f\"🔍 Fetching latest travel news for: {destination}\")\n",
        "\n",
        "    try:\n",
        "        url = f\"https://serpapi.com/search.json?q={destination}+travel+news&api_key={SERPAPI_KEY}\"\n",
        "        response = requests.get(url)\n",
        "        results = response.json().get(\"organic_results\", [])\n",
        "\n",
        "        return results[0][\"snippet\"] if results else \"No real-time travel news available.\"\n",
        "\n",
        "    except Exception as e:\n",
        "        return f\"Error fetching travel news: {str(e)}\"\n",
        "\n",
        "# Function to generate AI-powered travel stories\n",
        "def generate_travel_story(destination):\n",
        "    st.info(f\"📝 Generating AI-powered travel story for: {destination}\")\n",
        "\n",
        "    wikipedia_info = get_travel_info(destination)\n",
        "    news_info = fetch_travel_news(destination)\n",
        "\n",
        "    prompt = f\"\"\"\n",
        "    You are a travel AI expert. Provide a captivating travel story for {destination}.\n",
        "\n",
        "    - Historical & Cultural Insights: {wikipedia_info}\n",
        "    - Latest Travel News: {news_info}\n",
        "\n",
        "    Include famous landmarks, local experiences, and hidden gems.\n",
        "    \"\"\"\n",
        "\n",
        "    response = client.chat.completions.create(\n",
        "        model=\"gpt-4\",\n",
        "        messages=[\n",
        "            {\"role\": \"system\", \"content\": \"You are an AI travel assistant.\"},\n",
        "            {\"role\": \"user\", \"content\": prompt}\n",
        "        ],\n",
        "        max_tokens=500\n",
        "    )\n",
        "\n",
        "    return response.choices[0].message.content.strip()\n",
        "\n",
        "# Function to generate an AI-powered travel image\n",
        "def generate_travel_image(destination):\n",
        "    st.info(f\"🖼️ Generating AI-powered travel image for: {destination}\")\n",
        "\n",
        "    try:\n",
        "        response = client.images.generate(\n",
        "            model=\"dall-e-3\",  # Specify DALL·E model\n",
        "            prompt=f\"Scenic view of {destination} including cultural and historical landmarks\",\n",
        "            n=1,\n",
        "            size=\"1024x1024\"\n",
        "        )\n",
        "\n",
        "        image_url = response.data[0].url\n",
        "        return image_url\n",
        "\n",
        "    except openai.OpenAIError as e:\n",
        "        return f\"Error generating travel image: {str(e)}\"\n",
        "\n",
        "# Streamlit UI\n",
        "st.title(\"✈️ WanderTales: AI-Powered Travel Insights\")\n",
        "\n",
        "destination = st.text_input(\"Enter a travel destination:\")\n",
        "\n",
        "if st.button(\"Generate Travel Story\"):\n",
        "    story = generate_travel_story(destination)\n",
        "    st.subheader(\"📖 AI-Generated Travel Story\")\n",
        "    st.write(story)\n",
        "\n",
        "if st.button(\"Get Latest Travel News\"):\n",
        "    news = fetch_travel_news(destination)\n",
        "    st.subheader(\"📰 Latest Travel Insights\")\n",
        "    st.write(news)\n",
        "\n",
        "if st.button(\"Generate AI Travel Image\"):\n",
        "    image_url = generate_travel_image(destination)\n",
        "    if image_url and \"http\" in image_url:\n",
        "        st.image(image_url, caption=f\"AI-Generated Image of {destination}\")\n",
        "    else:\n",
        "        st.error(\"Failed to generate travel image.\")"
      ]
    },
    {
      "cell_type": "code",
      "execution_count": 7,
      "metadata": {
        "colab": {
          "base_uri": "https://localhost:8080/"
        },
        "id": "vBFHgTD2ztVp",
        "outputId": "517009dd-b7d3-41d8-e649-a78bd69bd37f"
      },
      "outputs": [
        {
          "output_type": "stream",
          "name": "stdout",
          "text": [
            "\n",
            "Collecting usage statistics. To deactivate, set browser.gatherUsageStats to false.\n",
            "\u001b[0m\n",
            "\u001b[1G\u001b[0K⠙\u001b[1G\u001b[0K⠹\u001b[0m\n",
            "\u001b[34m\u001b[1m  You can now view your Streamlit app in your browser.\u001b[0m\n",
            "\u001b[0m\n",
            "\u001b[34m  Local URL: \u001b[0m\u001b[1mhttp://localhost:8501\u001b[0m\n",
            "\u001b[34m  Network URL: \u001b[0m\u001b[1mhttp://172.28.0.12:8501\u001b[0m\n",
            "\u001b[34m  External URL: \u001b[0m\u001b[1mhttp://34.73.12.147:8501\u001b[0m\n",
            "\u001b[0m\n",
            "\u001b[1G\u001b[0K⠸\u001b[1G\u001b[0K⠼\u001b[1G\u001b[0K⠴\u001b[1G\u001b[0K⠦\u001b[1G\u001b[0Kyour url is: https://giant-walls-hug.loca.lt\n",
            "\u001b[34m  Stopping...\u001b[0m\n",
            "^C\n"
          ]
        }
      ],
      "source": [
        "!streamlit run wandertales_streamlit.py & npx localtunnel --port 8501\n"
      ]
    }
  ],
  "metadata": {
    "accelerator": "GPU",
    "colab": {
      "gpuType": "T4",
      "provenance": []
    },
    "kernelspec": {
      "display_name": "Python 3",
      "name": "python3"
    },
    "language_info": {
      "name": "python"
    }
  },
  "nbformat": 4,
  "nbformat_minor": 0
}