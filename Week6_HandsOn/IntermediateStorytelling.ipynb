{
  "cells": [
    {
      "cell_type": "code",
      "execution_count": 1,
      "metadata": {
        "colab": {
          "base_uri": "https://localhost:8080/"
        },
        "collapsed": true,
        "id": "TIf-fUndzLVI",
        "outputId": "1d0f94af-6f2c-478b-8cb4-0ab6a5f2e504"
      },
      "outputs": [
        {
          "name": "stdout",
          "output_type": "stream",
          "text": [
            "Requirement already satisfied: openai in /usr/local/lib/python3.11/dist-packages (1.61.1)\n",
            "Collecting wikipedia-api\n",
            "  Downloading wikipedia_api-0.8.1.tar.gz (19 kB)\n",
            "  Preparing metadata (setup.py) ... \u001b[?25l\u001b[?25hdone\n",
            "Collecting serpapi\n",
            "  Downloading serpapi-0.1.5-py2.py3-none-any.whl.metadata (10 kB)\n",
            "Requirement already satisfied: requests in /usr/local/lib/python3.11/dist-packages (2.32.3)\n",
            "Requirement already satisfied: anyio<5,>=3.5.0 in /usr/local/lib/python3.11/dist-packages (from openai) (3.7.1)\n",
            "Requirement already satisfied: distro<2,>=1.7.0 in /usr/local/lib/python3.11/dist-packages (from openai) (1.9.0)\n",
            "Requirement already satisfied: httpx<1,>=0.23.0 in /usr/local/lib/python3.11/dist-packages (from openai) (0.28.1)\n",
            "Requirement already satisfied: jiter<1,>=0.4.0 in /usr/local/lib/python3.11/dist-packages (from openai) (0.8.2)\n",
            "Requirement already satisfied: pydantic<3,>=1.9.0 in /usr/local/lib/python3.11/dist-packages (from openai) (2.10.6)\n",
            "Requirement already satisfied: sniffio in /usr/local/lib/python3.11/dist-packages (from openai) (1.3.1)\n",
            "Requirement already satisfied: tqdm>4 in /usr/local/lib/python3.11/dist-packages (from openai) (4.67.1)\n",
            "Requirement already satisfied: typing-extensions<5,>=4.11 in /usr/local/lib/python3.11/dist-packages (from openai) (4.12.2)\n",
            "Requirement already satisfied: charset-normalizer<4,>=2 in /usr/local/lib/python3.11/dist-packages (from requests) (3.4.1)\n",
            "Requirement already satisfied: idna<4,>=2.5 in /usr/local/lib/python3.11/dist-packages (from requests) (3.10)\n",
            "Requirement already satisfied: urllib3<3,>=1.21.1 in /usr/local/lib/python3.11/dist-packages (from requests) (2.3.0)\n",
            "Requirement already satisfied: certifi>=2017.4.17 in /usr/local/lib/python3.11/dist-packages (from requests) (2025.1.31)\n",
            "Requirement already satisfied: httpcore==1.* in /usr/local/lib/python3.11/dist-packages (from httpx<1,>=0.23.0->openai) (1.0.7)\n",
            "Requirement already satisfied: h11<0.15,>=0.13 in /usr/local/lib/python3.11/dist-packages (from httpcore==1.*->httpx<1,>=0.23.0->openai) (0.14.0)\n",
            "Requirement already satisfied: annotated-types>=0.6.0 in /usr/local/lib/python3.11/dist-packages (from pydantic<3,>=1.9.0->openai) (0.7.0)\n",
            "Requirement already satisfied: pydantic-core==2.27.2 in /usr/local/lib/python3.11/dist-packages (from pydantic<3,>=1.9.0->openai) (2.27.2)\n",
            "Downloading serpapi-0.1.5-py2.py3-none-any.whl (10 kB)\n",
            "Building wheels for collected packages: wikipedia-api\n",
            "  Building wheel for wikipedia-api (setup.py) ... \u001b[?25l\u001b[?25hdone\n",
            "  Created wheel for wikipedia-api: filename=Wikipedia_API-0.8.1-py3-none-any.whl size=15384 sha256=c850b4fd43b3d959fc1778f31c354796396c9baaa00d7078663cb5532f98aec4\n",
            "  Stored in directory: /root/.cache/pip/wheels/0b/0f/39/e8214ec038ccd5aeb8c82b957289f2f3ab2251febeae5c2860\n",
            "Successfully built wikipedia-api\n",
            "Installing collected packages: wikipedia-api, serpapi\n",
            "Successfully installed serpapi-0.1.5 wikipedia-api-0.8.1\n"
          ]
        }
      ],
      "source": [
        "pip install openai wikipedia-api serpapi requests"
      ]
    },
    {
      "cell_type": "code",
      "execution_count": 2,
      "metadata": {
        "colab": {
          "base_uri": "https://localhost:8080/"
        },
        "collapsed": true,
        "id": "X1g99Pgd0gU1",
        "outputId": "bb3373b6-1b23-49c3-cbf0-20796a826128"
      },
      "outputs": [
        {
          "name": "stdout",
          "output_type": "stream",
          "text": [
            "Requirement already satisfied: openai in /usr/local/lib/python3.11/dist-packages (1.61.1)\n",
            "Collecting openai\n",
            "  Downloading openai-1.65.1-py3-none-any.whl.metadata (27 kB)\n",
            "Requirement already satisfied: anyio<5,>=3.5.0 in /usr/local/lib/python3.11/dist-packages (from openai) (3.7.1)\n",
            "Requirement already satisfied: distro<2,>=1.7.0 in /usr/local/lib/python3.11/dist-packages (from openai) (1.9.0)\n",
            "Requirement already satisfied: httpx<1,>=0.23.0 in /usr/local/lib/python3.11/dist-packages (from openai) (0.28.1)\n",
            "Requirement already satisfied: jiter<1,>=0.4.0 in /usr/local/lib/python3.11/dist-packages (from openai) (0.8.2)\n",
            "Requirement already satisfied: pydantic<3,>=1.9.0 in /usr/local/lib/python3.11/dist-packages (from openai) (2.10.6)\n",
            "Requirement already satisfied: sniffio in /usr/local/lib/python3.11/dist-packages (from openai) (1.3.1)\n",
            "Requirement already satisfied: tqdm>4 in /usr/local/lib/python3.11/dist-packages (from openai) (4.67.1)\n",
            "Requirement already satisfied: typing-extensions<5,>=4.11 in /usr/local/lib/python3.11/dist-packages (from openai) (4.12.2)\n",
            "Requirement already satisfied: idna>=2.8 in /usr/local/lib/python3.11/dist-packages (from anyio<5,>=3.5.0->openai) (3.10)\n",
            "Requirement already satisfied: certifi in /usr/local/lib/python3.11/dist-packages (from httpx<1,>=0.23.0->openai) (2025.1.31)\n",
            "Requirement already satisfied: httpcore==1.* in /usr/local/lib/python3.11/dist-packages (from httpx<1,>=0.23.0->openai) (1.0.7)\n",
            "Requirement already satisfied: h11<0.15,>=0.13 in /usr/local/lib/python3.11/dist-packages (from httpcore==1.*->httpx<1,>=0.23.0->openai) (0.14.0)\n",
            "Requirement already satisfied: annotated-types>=0.6.0 in /usr/local/lib/python3.11/dist-packages (from pydantic<3,>=1.9.0->openai) (0.7.0)\n",
            "Requirement already satisfied: pydantic-core==2.27.2 in /usr/local/lib/python3.11/dist-packages (from pydantic<3,>=1.9.0->openai) (2.27.2)\n",
            "Downloading openai-1.65.1-py3-none-any.whl (472 kB)\n",
            "\u001b[2K   \u001b[90m━━━━━━━━━━━━━━━━━━━━━━━━━━━━━━━━━━━━━━━━\u001b[0m \u001b[32m472.8/472.8 kB\u001b[0m \u001b[31m17.8 MB/s\u001b[0m eta \u001b[36m0:00:00\u001b[0m\n",
            "\u001b[?25hInstalling collected packages: openai\n",
            "  Attempting uninstall: openai\n",
            "    Found existing installation: openai 1.61.1\n",
            "    Uninstalling openai-1.61.1:\n",
            "      Successfully uninstalled openai-1.61.1\n",
            "Successfully installed openai-1.65.1\n"
          ]
        }
      ],
      "source": [
        "pip install --upgrade openai"
      ]
    },
    {
      "cell_type": "code",
      "execution_count": 3,
      "metadata": {
        "colab": {
          "base_uri": "https://localhost:8080/"
        },
        "collapsed": true,
        "id": "zXzaubZmvZls",
        "outputId": "32d1d8e7-39cd-4d9d-da63-c83790091640"
      },
      "outputs": [
        {
          "name": "stdout",
          "output_type": "stream",
          "text": [
            "Collecting gtts\n",
            "  Downloading gTTS-2.5.4-py3-none-any.whl.metadata (4.1 kB)\n",
            "Requirement already satisfied: requests<3,>=2.27 in /usr/local/lib/python3.11/dist-packages (from gtts) (2.32.3)\n",
            "Requirement already satisfied: click<8.2,>=7.1 in /usr/local/lib/python3.11/dist-packages (from gtts) (8.1.8)\n",
            "Requirement already satisfied: charset-normalizer<4,>=2 in /usr/local/lib/python3.11/dist-packages (from requests<3,>=2.27->gtts) (3.4.1)\n",
            "Requirement already satisfied: idna<4,>=2.5 in /usr/local/lib/python3.11/dist-packages (from requests<3,>=2.27->gtts) (3.10)\n",
            "Requirement already satisfied: urllib3<3,>=1.21.1 in /usr/local/lib/python3.11/dist-packages (from requests<3,>=2.27->gtts) (2.3.0)\n",
            "Requirement already satisfied: certifi>=2017.4.17 in /usr/local/lib/python3.11/dist-packages (from requests<3,>=2.27->gtts) (2025.1.31)\n",
            "Downloading gTTS-2.5.4-py3-none-any.whl (29 kB)\n",
            "Installing collected packages: gtts\n",
            "Successfully installed gtts-2.5.4\n"
          ]
        }
      ],
      "source": [
        "pip install gtts"
      ]
    },
    {
      "cell_type": "code",
      "execution_count": 9,
      "metadata": {
        "colab": {
          "base_uri": "https://localhost:8080/"
        },
        "id": "k-PbO3Cwu4-7",
        "outputId": "1dfc8290-de11-4f20-8974-3dfb52036798"
      },
      "outputs": [
        {
          "name": "stdout",
          "output_type": "stream",
          "text": [
            "Generated Travel Story:\n",
            " Welcome, dear adventurers, to the grand city of Hyderabad, the Pearl City of India. Flanked with centuries of vibrant history, rich Nizami culture, and modern allure, this city will surely leave imprints in the memory of every traveler that passes its threshold.\n",
            "\n",
            "Your first morning here pours in with the luminescent golden sunbeam bouncing off the majestic Charminar, an iconic symbol of Hyderabad. This iconic structure stands tall in the heart of the city, reaching for the azure sprawl above, surrounded by the bustling, vibrant markets of Laad Bazar. Tag along with the locals haggling for a good bargain for bangles, pearls, and traditional attire, imbuing the atmosphere with an age-old charm. \n",
            "\n",
            "A few blocks away, silence and history whisper tales in the archaic walls of the Golconda Fort. Feel the echoes of eons resounding through the ruins, unveiling tales of victories, defeats and dynasties that once harbored in its heart. By nightfall, this fortress lightens and brightens under the night sky, enacting the saga of the city's glorious past through an exquisite light and sound show.\n",
            "\n",
            "Enticing aromas waft out from the city's street stalls as you stroll along. Dare not to miss the authentic Hyderabadi Biryani from street carts lining the alleyways. With every spoonful, relish the succulent meat bathed in spices, layered with fragrant Basmati rice. For a flavor twist, try the Mirchi ka Salan, a perfect tangy and spicy companion to the Biryani. \n",
            "\n",
            "For the moments when hunger strikes amidst street explorations, huddle around the local vendors for a plate full of Pani Puri or Bhel Puri near Necklace Road. Or quench your thirst with a chilled glass of    Falooda from the Shah Ghouse café. And let’s not forget the Irani Chai coupled with Osmania biscuits, available in almost every nook and cranny of the city - it's a ritual here!\n",
            "\n",
            "Next stop would be the Salar Jung Museum, a sanctuary to one of the largest one-man collections of art pieces in the world. The intriguing exhibits laid out here range from paintings, sculptures, textiles to meticulously collected artefacts from across the world. \n",
            "\n",
            "Needing a breather from the bustling city? Seek the tranquility of Hussain Sagar Lake in the heart of the concrete jungle. The massive Buddha statue, standing\n",
            "Moviepy - Building video travel_story.mp4.\n",
            "MoviePy - Writing audio in travel_storyTEMP_MPY_wvf_snd.mp4\n"
          ]
        },
        {
          "name": "stderr",
          "output_type": "stream",
          "text": []
        },
        {
          "name": "stdout",
          "output_type": "stream",
          "text": [
            "MoviePy - Done.\n",
            "Moviepy - Writing video travel_story.mp4\n",
            "\n"
          ]
        },
        {
          "name": "stderr",
          "output_type": "stream",
          "text": []
        },
        {
          "name": "stdout",
          "output_type": "stream",
          "text": [
            "Moviepy - Done !\n",
            "Moviepy - video ready travel_story.mp4\n",
            "🎬 Travel story animation created successfully!\n"
          ]
        }
      ],
      "source": [
        "import openai\n",
        "import requests\n",
        "import wikipediaapi\n",
        "import io\n",
        "import time\n",
        "from PIL import Image\n",
        "from moviepy.editor import *  # For video editing\n",
        "from gtts import gTTS  # For text-to-speech\n",
        "\n",
        "# ✅ OpenAI API Key (Ensure you set this in your environment variables)\n",
        "OPENAI_API_KEY = \"*********\"\n",
        "\n",
        "# ✅ Initialize OpenAI Client\n",
        "client = openai.OpenAI(api_key=OPENAI_API_KEY)\n",
        "\n",
        "# ✅ Wikipedia API Setup\n",
        "wiki = wikipediaapi.Wikipedia(user_agent=\"MyTravelApp/1.0\", language=\"en\")\n",
        "\n",
        "# ✅ Function to fetch travel data from Wikipedia\n",
        "def get_wikipedia_summary(place):\n",
        "    page = wiki.page(place)\n",
        "    return page.summary[:500] if page.exists() else \"No Wikipedia summary found.\"\n",
        "\n",
        "# ✅ Function to generate travel story using GPT-4\n",
        "def generate_travel_story(destination):\n",
        "    wikipedia_info = get_wikipedia_summary(destination)\n",
        "    prompt = f\"\"\"\n",
        "    Create an engaging travel story that user is gonna experience when they visit {destination}, highlighting:\n",
        "    - Must-visit places (historical, cultural, and modern attractions)\n",
        "    - Best street foods and cafes\n",
        "    - Unique cultural experiences\n",
        "\n",
        "    Wikipedia Summary: {wikipedia_info}\n",
        "\n",
        "    Story Output:\n",
        "    \"\"\"\n",
        "\n",
        "    response = client.chat.completions.create(\n",
        "        model=\"gpt-4\",\n",
        "        messages=[{\"role\": \"system\", \"content\": \"You are a travel storyteller.\"},\n",
        "                  {\"role\": \"user\", \"content\": prompt}],\n",
        "        max_tokens=500\n",
        "    )\n",
        "\n",
        "    return response.choices[0].message.content.strip()\n",
        "\n",
        "# ✅ Function to generate multiple images using OpenAI DALL-E\n",
        "def generate_travel_images(destination):\n",
        "    \"\"\"Generate a realistic animated set of images representing the travel experience\"\"\"\n",
        "    prompts = [\n",
        "        f\"A breathtaking aerial view of {destination}, sunset, ultra-HD\",\n",
        "        f\"A vibrant street food market in {destination}, full of people enjoying food\",\n",
        "        f\"A cozy and famous café in {destination}, warm atmosphere, travelers enjoying coffee\",\n",
        "        f\"A historic landmark in {destination}, cinematic lighting, tourists exploring\",\n",
        "        f\"A scenic park or nature spot near {destination}, peaceful, relaxing vibes\"\n",
        "    ]\n",
        "\n",
        "    image_urls = []\n",
        "    for prompt in prompts:\n",
        "        response = client.images.generate(\n",
        "            model=\"dall-e-3\",\n",
        "            prompt=prompt,\n",
        "            n=1,\n",
        "            size=\"1024x1024\"\n",
        "        )\n",
        "        image_urls.append(response.data[0].url)\n",
        "\n",
        "    return image_urls[:5]  # ✅ Limiting to 5 images\n",
        "\n",
        "# ✅ Function to create a voice-over for the travel story\n",
        "def generate_voiceover(story_text, output_audio=\"travel_narration.mp3\"):\n",
        "    tts = gTTS(text=story_text, lang=\"en\", slow=False)\n",
        "    tts.save(output_audio)\n",
        "    return output_audio\n",
        "\n",
        "# ✅ Function to create an animated travel video with multiple images and synchronized narration\n",
        "def create_travel_video(image_urls, narration_audio, output_video=\"travel_story.mp4\"):\n",
        "    \"\"\"Creates an animated travel video with zoom effects and background narration\"\"\"\n",
        "\n",
        "    # ✅ Load narration audio and calculate duration\n",
        "    audio_clip = AudioFileClip(narration_audio)\n",
        "    total_audio_duration = audio_clip.duration  # Total narration time\n",
        "\n",
        "    # ✅ Adjust image duration to match audio duration\n",
        "    num_images = len(image_urls)\n",
        "    image_duration = total_audio_duration / num_images  # Equal time per image\n",
        "\n",
        "    image_clips = []\n",
        "    for i, url in enumerate(image_urls):\n",
        "        # Download the image\n",
        "        response = requests.get(url)\n",
        "        image = Image.open(io.BytesIO(response.content))\n",
        "        image_path = f\"travel_image_{i}.jpg\"\n",
        "        image.save(image_path)\n",
        "\n",
        "        # Load image into MoviePy and add zoom effect\n",
        "        clip = ImageClip(image_path, duration=image_duration).set_fps(24)\n",
        "        clip = clip.resize(lambda t: 1 + 0.01 * t)  # Slow zoom-in effect\n",
        "        image_clips.append(clip)\n",
        "\n",
        "    # ✅ Combine all images into a single video\n",
        "    video_clip = concatenate_videoclips(image_clips, method=\"compose\")\n",
        "\n",
        "    # ✅ Set audio to match video length\n",
        "    video_clip = video_clip.set_audio(audio_clip)\n",
        "\n",
        "    # ✅ Export final video\n",
        "    video_clip.write_videofile(output_video, codec=\"libx264\", fps=24, audio_codec=\"aac\")\n",
        "    print(\"🎬 Travel story animation created successfully!\")\n",
        "\n",
        "# ------------------- EXECUTION -------------------\n",
        "\n",
        "# 🎯 Example Destination\n",
        "destination = \"Hyderabad\"\n",
        "\n",
        "# ✅ Generate Travel Story\n",
        "story = generate_travel_story(destination)\n",
        "print(\"Generated Travel Story:\\n\", story)\n",
        "\n",
        "# ✅ Generate Travel Images\n",
        "image_urls = generate_travel_images(destination)\n",
        "\n",
        "# ✅ Generate Voice-over for the Story\n",
        "narration_audio = generate_voiceover(story)\n",
        "\n",
        "# ✅ Create Animated Travel Video with Narration\n",
        "create_travel_video(image_urls, narration_audio)\n"
      ]
    }
  ],
  "metadata": {
    "accelerator": "GPU",
    "colab": {
      "gpuType": "T4",
      "provenance": []
    },
    "kernelspec": {
      "display_name": "Python 3",
      "name": "python3"
    },
    "language_info": {
      "name": "python"
    }
  },
  "nbformat": 4,
  "nbformat_minor": 0
}
